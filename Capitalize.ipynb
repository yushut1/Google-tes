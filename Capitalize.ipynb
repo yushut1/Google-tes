{
  "nbformat": 4,
  "nbformat_minor": 0,
  "metadata": {
    "colab": {
      "provenance": [],
      "authorship_tag": "ABX9TyNFvzEO1eV11hiXU6MZ7Y1t",
      "include_colab_link": true
    },
    "kernelspec": {
      "name": "python3",
      "display_name": "Python 3"
    },
    "language_info": {
      "name": "python"
    }
  },
  "cells": [
    {
      "cell_type": "markdown",
      "metadata": {
        "id": "view-in-github",
        "colab_type": "text"
      },
      "source": [
        "<a href=\"https://colab.research.google.com/github/yushut1/Google-tes/blob/main/Capitalize.ipynb\" target=\"_parent\"><img src=\"https://colab.research.google.com/assets/colab-badge.svg\" alt=\"Open In Colab\"/></a>"
      ]
    },
    {
      "cell_type": "code",
      "source": [
        "import math\n",
        "try:\n",
        "  def power(a, n):\n",
        "    c = math.pow(a, n)\n",
        "    print(c)\n",
        "    return a, n\n",
        "\n",
        "  a = int(input())\n",
        "  n = int(input())\n",
        "  power(a, n)\n",
        "except NameError:\n",
        "  print(\"Импортируй модуль математики, умныш\")\n",
        "except TypeError:\n",
        "  print(\"Мб ты второй инпут введёшь?\")"
      ],
      "metadata": {
        "colab": {
          "base_uri": "https://localhost:8080/"
        },
        "id": "A4HFvYXdfJZ6",
        "outputId": "f54e4dee-61c8-4943-ba62-7284416b12a9"
      },
      "execution_count": 25,
      "outputs": [
        {
          "output_type": "stream",
          "name": "stdout",
          "text": [
            "2\n",
            "3\n",
            "8.0\n"
          ]
        }
      ]
    },
    {
      "cell_type": "code",
      "source": [
        "def main(list):\n",
        "  a = list.title()\n",
        "  print(a)\n",
        "\n",
        "main(\"harry potter is dayn\")"
      ],
      "metadata": {
        "colab": {
          "base_uri": "https://localhost:8080/"
        },
        "id": "_CDohvH2bTYR",
        "outputId": "fd6b5177-d5bb-476e-f4a8-8d7492d84ea8"
      },
      "execution_count": 18,
      "outputs": [
        {
          "output_type": "stream",
          "name": "stdout",
          "text": [
            "Harry Potter Is Dayn\n"
          ]
        }
      ]
    }
  ]
}